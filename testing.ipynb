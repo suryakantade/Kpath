{
 "cells": [
  {
   "cell_type": "code",
   "execution_count": 10,
   "id": "79267aef",
   "metadata": {},
   "outputs": [
    {
     "name": "stderr",
     "output_type": "stream",
     "text": [
      "2023-10-06 23:35:43.791122: I tensorflow/core/platform/cpu_feature_guard.cc:182] This TensorFlow binary is optimized to use available CPU instructions in performance-critical operations.\n",
      "To enable the following instructions: AVX2 FMA, in other operations, rebuild TensorFlow with the appropriate compiler flags.\n"
     ]
    }
   ],
   "source": [
    "import tensorflow as tf\n",
    "from tensorflow.keras.models import Sequential, Model\n",
    "from tensorflow.keras.layers import Conv2D, MaxPooling2D, Flatten, LSTM, Dense, TimeDistributed, Input\n",
    "\n",
    "\n",
    "from tensorflow.keras.preprocessing.image import ImageDataGenerator"
   ]
  },
  {
   "cell_type": "code",
   "execution_count": 51,
   "id": "bf279650-4655-4040-a193-e67b24465478",
   "metadata": {},
   "outputs": [
    {
     "data": {
      "text/plain": [
       "<module 'tensorflow._api.v2.version' from '/usr/local/lib/python3.11/site-packages/tensorflow/_api/v2/version/__init__.py'>"
      ]
     },
     "execution_count": 51,
     "metadata": {},
     "output_type": "execute_result"
    }
   ],
   "source": [
    "tf.version"
   ]
  },
  {
   "cell_type": "code",
   "execution_count": 11,
   "id": "90c0da8d",
   "metadata": {},
   "outputs": [],
   "source": [
    "\n",
    "# Define your RNN model\n",
    "model = Sequential()\n",
    "sequence_length = 10\n",
    "image_height = 1912\n",
    "image_width = 2940\n",
    "num_channels=3\n",
    "input_shape = (sequence_length, image_height, image_width, 3)\n"
   ]
  },
  {
   "cell_type": "code",
   "execution_count": 12,
   "id": "dc89b231-1c04-4ac3-a3b3-ba41ad14364a",
   "metadata": {},
   "outputs": [],
   "source": [
    "# CNN part\n",
    "cnn_model = Sequential()\n",
    "cnn_model.add(Conv2D(32, (3, 3), activation='relu',  input_shape=(image_height, image_width, num_channels)))\n",
    "cnn_model.add(MaxPooling2D((2, 2)))\n",
    "cnn_model.add(Conv2D(64, (3, 3), activation='relu'))\n",
    "cnn_model.add(MaxPooling2D((2, 2)))\n",
    "cnn_model.add(Conv2D(128, (3, 3), activation='relu'))\n",
    "cnn_model.add(MaxPooling2D((2, 2)))\n",
    "cnn_model.add(Flatten())\n"
   ]
  },
  {
   "cell_type": "code",
   "execution_count": null,
   "id": "ed11dfd9-41ed-4e91-9f7e-a976a54f7914",
   "metadata": {},
   "outputs": [],
   "source": [
    "# RNN part\n",
    "num_features = 11072640\n",
    "rnn_model = Sequential()\n",
    "rnn_model.add(LSTM(64, return_sequences=True, input_shape=(sequence_length, num_features)))\n"
   ]
  },
  {
   "cell_type": "code",
   "execution_count": null,
   "id": "93c9bae3-0391-445b-a76f-bc2ef4f9f7a7",
   "metadata": {},
   "outputs": [],
   "source": [
    "num_classes = 4  # Based on Click/ Input text/ Scroll/ Hover\n",
    "# Combine CNN and RNN\n",
    "combined_model = Sequential()\n",
    "combined_model.add(TimeDistributed(cnn_model, input_shape=input_shape))\n",
    "combined_model.add(rnn_model)\n",
    "combined_model.add(Dense(num_classes, activation='softmax'))"
   ]
  },
  {
   "cell_type": "code",
   "execution_count": 56,
   "id": "12bb3d3a-8396-48b2-98cb-0307caf6122d",
   "metadata": {},
   "outputs": [
    {
     "name": "stdout",
     "output_type": "stream",
     "text": [
      "Model: \"sequential_43\"\n",
      "_________________________________________________________________\n",
      " Layer (type)                Output Shape              Param #   \n",
      "=================================================================\n",
      " time_distributed_10 (TimeD  (None, 50, 36992)         93248     \n",
      " istributed)                                                     \n",
      "                                                                 \n",
      " sequential_42 (Sequential)  (None, 50, 64)            9486592   \n",
      "                                                                 \n",
      " dense_3 (Dense)             (None, 50, 4)             260       \n",
      "                                                                 \n",
      "=================================================================\n",
      "Total params: 9580100 (36.55 MB)\n",
      "Trainable params: 9580100 (36.55 MB)\n",
      "Non-trainable params: 0 (0.00 Byte)\n",
      "_________________________________________________________________\n"
     ]
    }
   ],
   "source": [
    "\n",
    "# Compile the combined model\n",
    "combined_model.compile(optimizer='adam', loss='categorical_crossentropy', metrics=['accuracy'])\n",
    "\n",
    "# Print the model summary to see the architecture\n",
    "combined_model.summary()\n",
    "\n",
    "# Now, you can train the model using your sequence of images data\n",
    "# You'll need to prepare your data and labels before fitting the model\n",
    "# For example, you can use the 'fit' method: combined_model.fit(x_train, y_train, epochs=num_epochs, batch_size=batch_size)\n",
    "x_train = [ [1,2,3], [1,2,4] ]\n",
    "y_train = [ 'Click', 'Input Text']"
   ]
  },
  {
   "cell_type": "code",
   "execution_count": null,
   "id": "0d48555e-9bab-4375-beba-673f3658dd3f",
   "metadata": {},
   "outputs": [],
   "source": []
  },
  {
   "cell_type": "code",
   "execution_count": 1,
   "id": "40785163-588a-4135-a7de-a253f8f8f098",
   "metadata": {},
   "outputs": [],
   "source": [
    "import cv2\n",
    "import os\n"
   ]
  },
  {
   "cell_type": "code",
   "execution_count": 2,
   "id": "12e39123-0987-42ef-bbea-bda12b35caaf",
   "metadata": {},
   "outputs": [],
   "source": [
    "# Specify the folder containing your images\n",
    "folder_path = '/Users/khatabook/Learning/kpath/Kpath/screen_recording_utility/screen_shots/20231006231504'\n",
    "\n",
    "# Initialize a list to store the loaded images\n",
    "loaded_images = []\n",
    "\n",
    "# Loop through the files in the folder\n",
    "for filename in os.listdir(folder_path):\n",
    "    # Check if the file is an image (you can add more image extensions if needed)\n",
    "    if filename.endswith(('.jpg', '.jpeg', '.png', '.bmp', '.gif')):\n",
    "        # Load the image using OpenCV\n",
    "        image_path = os.path.join(folder_path, filename)\n",
    "        image = cv2.imread(image_path)\n",
    "\n",
    "        # Append the loaded image to the list\n",
    "        if image is not None:\n",
    "            loaded_images.append(image)"
   ]
  },
  {
   "cell_type": "code",
   "execution_count": 8,
   "id": "0c2fe72a-935b-4359-99e9-b9e791ba462a",
   "metadata": {},
   "outputs": [
    {
     "data": {
      "text/plain": [
       "(1912, 2940, 3)"
      ]
     },
     "execution_count": 8,
     "metadata": {},
     "output_type": "execute_result"
    }
   ],
   "source": [
    "loaded_images[3].shape\n"
   ]
  },
  {
   "cell_type": "code",
   "execution_count": null,
   "id": "12b75987-9a64-46de-8903-3eced3f339e0",
   "metadata": {},
   "outputs": [],
   "source": []
  }
 ],
 "metadata": {
  "kernelspec": {
   "display_name": "Python 3 (ipykernel)",
   "language": "python",
   "name": "python3"
  },
  "language_info": {
   "codemirror_mode": {
    "name": "ipython",
    "version": 3
   },
   "file_extension": ".py",
   "mimetype": "text/x-python",
   "name": "python",
   "nbconvert_exporter": "python",
   "pygments_lexer": "ipython3",
   "version": "3.11.2"
  }
 },
 "nbformat": 4,
 "nbformat_minor": 5
}
