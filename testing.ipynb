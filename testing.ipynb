{
 "cells": [
  {
   "cell_type": "code",
   "execution_count": 16,
   "id": "79267aef",
   "metadata": {},
   "outputs": [],
   "source": [
    "import tensorflow as tf\n",
    "from tensorflow.keras.models import Sequential, Model\n",
    "from tensorflow.keras.layers import Conv2D, MaxPooling2D, Flatten, LSTM, Dense, TimeDistributed, Input\n",
    "import numpy as np\n",
    "from tensorflow.keras.utils import to_categorical\n",
    "from tensorflow.keras.preprocessing.image import ImageDataGenerator"
   ]
  },
  {
   "cell_type": "code",
   "execution_count": 51,
   "id": "bf279650-4655-4040-a193-e67b24465478",
   "metadata": {},
   "outputs": [
    {
     "data": {
      "text/plain": [
       "<module 'tensorflow._api.v2.version' from '/usr/local/lib/python3.11/site-packages/tensorflow/_api/v2/version/__init__.py'>"
      ]
     },
     "execution_count": 51,
     "metadata": {},
     "output_type": "execute_result"
    }
   ],
   "source": [
    "tf.version"
   ]
  },
  {
   "cell_type": "code",
   "execution_count": 2,
   "id": "90c0da8d",
   "metadata": {},
   "outputs": [],
   "source": [
    "\n",
    "# Define your RNN model\n",
    "model = Sequential()\n",
    "sequence_length = 10\n",
    "image_height = 1024\n",
    "image_width = 1024\n",
    "num_channels=3\n",
    "input_shape = (sequence_length, image_height, image_width, 3)\n"
   ]
  },
  {
   "cell_type": "code",
   "execution_count": 3,
   "id": "dc89b231-1c04-4ac3-a3b3-ba41ad14364a",
   "metadata": {},
   "outputs": [],
   "source": [
    "# CNN part\n",
    "cnn_model = Sequential()\n",
    "cnn_model.add(Conv2D(32, (3, 3), activation='relu',  input_shape=(image_height, image_width, num_channels)))\n",
    "cnn_model.add(MaxPooling2D((2, 2)))\n",
    "cnn_model.add(Conv2D(64, (3, 3), activation='relu'))\n",
    "cnn_model.add(MaxPooling2D((2, 2)))\n",
    "cnn_model.add(Conv2D(128, (3, 3), activation='relu'))\n",
    "cnn_model.add(MaxPooling2D((2, 2)))\n",
    "cnn_model.add(Flatten())\n"
   ]
  },
  {
   "cell_type": "code",
   "execution_count": 62,
   "id": "ed11dfd9-41ed-4e91-9f7e-a976a54f7914",
   "metadata": {},
   "outputs": [],
   "source": [
    "# RNN part\n",
    "num_features = 2032128\n",
    "rnn_model = Sequential()\n",
    "rnn_model.add(LSTM(64, return_sequences=True, input_shape=(sequence_length, num_features)))\n",
    "# rnn_model.add(LSTM(128)(Flatten()))\n"
   ]
  },
  {
   "cell_type": "code",
   "execution_count": 105,
   "id": "93c9bae3-0391-445b-a76f-bc2ef4f9f7a7",
   "metadata": {},
   "outputs": [],
   "source": [
    "num_classes = 4  # Based on Click/ Input text/ Scroll/ Hover\n",
    "# Combine CNN and RNN\n",
    "combined_model = Sequential()\n",
    "combined_model.add(TimeDistributed(cnn_model, input_shape=input_shape))\n",
    "combined_model.add(rnn_model)\n",
    "combined_model.add(Dense(num_classes, activation='softmax'))"
   ]
  },
  {
   "cell_type": "code",
   "execution_count": 106,
   "id": "12bb3d3a-8396-48b2-98cb-0307caf6122d",
   "metadata": {},
   "outputs": [
    {
     "name": "stdout",
     "output_type": "stream",
     "text": [
      "Model: \"sequential_14\"\n",
      "_________________________________________________________________\n",
      " Layer (type)                Output Shape              Param #   \n",
      "=================================================================\n",
      " time_distributed_5 (TimeDi  (None, 10, 2032128)       93248     \n",
      " stributed)                                                      \n",
      "                                                                 \n",
      " sequential_10 (Sequential)  (None, 10, 64)            520241408 \n",
      "                                                                 \n",
      " dense_4 (Dense)             (None, 10, 4)             260       \n",
      "                                                                 \n",
      "=================================================================\n",
      "Total params: 520334916 (1.94 GB)\n",
      "Trainable params: 520334916 (1.94 GB)\n",
      "Non-trainable params: 0 (0.00 Byte)\n",
      "_________________________________________________________________\n"
     ]
    }
   ],
   "source": [
    "\n",
    "# Compile the combined model\n",
    "combined_model.compile(optimizer='adam', loss='categorical_crossentropy', metrics=['accuracy'])\n",
    "\n",
    "# Print the model summary to see the architecture\n",
    "combined_model.summary()\n",
    "\n",
    "# Now, you can train the model using your sequence of images data\n",
    "# You'll need to prepare your data and labels before fitting the model\n",
    "# For example, you can use the 'fit' method: combined_model.fit(x_train, y_train, epochs=num_epochs, batch_size=batch_size)\n"
   ]
  },
  {
   "cell_type": "code",
   "execution_count": null,
   "id": "0d48555e-9bab-4375-beba-673f3658dd3f",
   "metadata": {},
   "outputs": [],
   "source": []
  },
  {
   "cell_type": "code",
   "execution_count": 7,
   "id": "40785163-588a-4135-a7de-a253f8f8f098",
   "metadata": {},
   "outputs": [],
   "source": [
    "import cv2\n",
    "import os\n",
    "from PIL import Image\n",
    "\n"
   ]
  },
  {
   "cell_type": "code",
   "execution_count": 31,
   "id": "12e39123-0987-42ef-bbea-bda12b35caaf",
   "metadata": {},
   "outputs": [],
   "source": [
    "# Specify the folder containing your images\n",
    "folder_path = '/Users/khatabook/Learning/kpath/Kpath/screen_recording_utility/screen_shots/20231006231504'\n",
    "\n",
    "# Initialize a list to store the loaded images\n",
    "loaded_images = []\n",
    "target_size = (1024, 1024)\n",
    "# Loop through the files in the folder\n",
    "for filename in os.listdir(folder_path):\n",
    "    # Check if the file is an image (you can add more image extensions if needed)\n",
    "    if filename.endswith(('.jpg', '.jpeg', '.png', '.bmp', '.gif')):\n",
    "        # Load the image using OpenCV\n",
    "        image_path = os.path.join(folder_path, filename)\n",
    "        image = Image.open(image_path)\n",
    "        image = image.resize(target_size)\n",
    "        newPath = os.path.join(folder_path + '/resize', filename)\n",
    "        image.save(newPath)\n"
   ]
  },
  {
   "cell_type": "code",
   "execution_count": 8,
   "id": "0c2fe72a-935b-4359-99e9-b9e791ba462a",
   "metadata": {},
   "outputs": [],
   "source": [
    "# Specify the folder containing your images\n",
    "folder_path = '/Users/khatabook/Learning/kpath/Kpath/screen_recording_utility/screen_shots/20231006231504/resize'\n",
    "\n",
    "# Initialize a list to store the loaded images\n",
    "loaded_images = []\n",
    "# Loop through the files in the folder\n",
    "for filename in os.listdir(folder_path):\n",
    "    # Check if the file is an image (you can add more image extensions if needed)\n",
    "    if filename.endswith(('.jpg', '.jpeg', '.png', '.bmp', '.gif')):\n",
    "        # Load the image using OpenCV\n",
    "        image_path = os.path.join(folder_path, filename)\n",
    "        image = cv2.imread(image_path)\n",
    "\n",
    "        # Append the loaded image to the list\n",
    "        if image is not None:\n",
    "            loaded_images.append(image)"
   ]
  },
  {
   "cell_type": "code",
   "execution_count": 9,
   "id": "12b75987-9a64-46de-8903-3eced3f339e0",
   "metadata": {},
   "outputs": [
    {
     "data": {
      "text/plain": [
       "(1024, 1024, 3)"
      ]
     },
     "execution_count": 9,
     "metadata": {},
     "output_type": "execute_result"
    }
   ],
   "source": [
    "loaded_images[1].shape\n"
   ]
  },
  {
   "cell_type": "code",
   "execution_count": 74,
   "id": "8a5d2491-bb78-4608-b79b-144a66c064a4",
   "metadata": {},
   "outputs": [],
   "source": [
    "images_per_sublist = 10\n",
    "\n",
    "# Split the list of images into sublists\n",
    "list_of_lists_of_images = [loaded_images[i:i + images_per_sublist] for i in range(0, len(loaded_images), images_per_sublist)]\n"
   ]
  },
  {
   "cell_type": "code",
   "execution_count": 97,
   "id": "591b30c7-3b64-400f-b77a-2ecef6f729b3",
   "metadata": {},
   "outputs": [],
   "source": [
    "len(list_of_lists_of_images)\n",
    "labels = ['click','click','click', 'input','input','type','type','type','type','type','type','type','click','click']\n",
    "labels = [0,0,0,1,1,2,2,2,2,2,2,2,3]"
   ]
  },
  {
   "cell_type": "code",
   "execution_count": 76,
   "id": "31efe6a2-975e-420b-a09e-f1eb106f30be",
   "metadata": {},
   "outputs": [],
   "source": [
    "x_train = []\n",
    "y_train = []"
   ]
  },
  {
   "cell_type": "code",
   "execution_count": 77,
   "id": "00c83dea-3391-41a6-a89b-1b742f0e414d",
   "metadata": {},
   "outputs": [],
   "source": [
    "for sequence, label in zip(list_of_lists_of_images, labels):\n",
    "    x_train.append(sequence)  # Append the sequence of images\n",
    "    y_train.append(label) "
   ]
  },
  {
   "cell_type": "code",
   "execution_count": 79,
   "id": "b271967a-6520-4f8a-98c4-951cb14198e1",
   "metadata": {},
   "outputs": [],
   "source": [
    "# x_train.pop()"
   ]
  },
  {
   "cell_type": "code",
   "execution_count": 80,
   "id": "c25503e3-7e02-4e9b-b13e-c3e001aa83d3",
   "metadata": {},
   "outputs": [],
   "source": [
    "x_train = np.array(x_train)  # Shape: (num_samples, sequence_length, image_height, image_width, num_channels)\n",
    "x_train = x_train / 255.0 "
   ]
  },
  {
   "cell_type": "code",
   "execution_count": 99,
   "id": "ec142cbe-1581-4dd2-a5fa-23167304ea73",
   "metadata": {},
   "outputs": [
    {
     "data": {
      "text/plain": [
       "(13, 4)"
      ]
     },
     "execution_count": 99,
     "metadata": {},
     "output_type": "execute_result"
    }
   ],
   "source": [
    "y_train_1 = to_categorical(labels, num_classes)\n",
    "y_train_1.shape"
   ]
  },
  {
   "cell_type": "code",
   "execution_count": 108,
   "id": "a450baf5-63c1-44b2-bc57-720d5bc8ab1a",
   "metadata": {},
   "outputs": [],
   "source": [
    "\n",
    "y_train_final = np.reshape(y_train_1, (y_train_1.shape[0], 1, y_train_1.shape[1]))\n",
    "y_train_final = np.tile(y_train_final, (1, 10, 1))"
   ]
  },
  {
   "cell_type": "code",
   "execution_count": null,
   "id": "0cfd5bfa-7be0-4449-960e-06f8cf3def6a",
   "metadata": {},
   "outputs": [
    {
     "name": "stdout",
     "output_type": "stream",
     "text": [
      "Epoch 1/10\n"
     ]
    }
   ],
   "source": [
    "combined_model.fit(x_train, y_train_final, epochs=10, batch_size=13)"
   ]
  },
  {
   "cell_type": "code",
   "execution_count": null,
   "id": "ec8e2f11-2331-4aa1-ac88-f88ed36e6df0",
   "metadata": {},
   "outputs": [],
   "source": []
  }
 ],
 "metadata": {
  "kernelspec": {
   "display_name": "Python 3 (ipykernel)",
   "language": "python",
   "name": "python3"
  },
  "language_info": {
   "codemirror_mode": {
    "name": "ipython",
    "version": 3
   },
   "file_extension": ".py",
   "mimetype": "text/x-python",
   "name": "python",
   "nbconvert_exporter": "python",
   "pygments_lexer": "ipython3",
   "version": "3.11.2"
  }
 },
 "nbformat": 4,
 "nbformat_minor": 5
}
